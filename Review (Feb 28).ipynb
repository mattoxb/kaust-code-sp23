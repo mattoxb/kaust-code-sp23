{
 "cells": [
  {
   "cell_type": "markdown",
   "id": "b43de67d",
   "metadata": {},
   "source": [
    "# Python Review\n",
    "\n",
    "### Topics to Cover\n",
    "- If/Else/Elif\n",
    "- Loops : while and for\n",
    "- Maze representation in Wumpus\n",
    "- Did you know that $e^{i \\pi} - 1 = 0$?"
   ]
  },
  {
   "cell_type": "markdown",
   "id": "9e56617a",
   "metadata": {},
   "source": [
    "## Topic One: Conditionals"
   ]
  },
  {
   "cell_type": "code",
   "execution_count": 4,
   "id": "5da5858b",
   "metadata": {},
   "outputs": [],
   "source": [
    "x = 10\n",
    "y = 30\n",
    "z = 10"
   ]
  },
  {
   "cell_type": "code",
   "execution_count": 5,
   "id": "14b74535",
   "metadata": {},
   "outputs": [
    {
     "name": "stdout",
     "output_type": "stream",
     "text": [
      "yes\n"
     ]
    }
   ],
   "source": [
    "if x < y:          # conditional\n",
    "    print(\"yes\")   # then-branch or true-branch\n",
    "else:\n",
    "    print(\"no\")    # else-branch or false-branch"
   ]
  },
  {
   "cell_type": "code",
   "execution_count": 6,
   "id": "4b56add2",
   "metadata": {},
   "outputs": [
    {
     "name": "stdout",
     "output_type": "stream",
     "text": [
      "no\n"
     ]
    }
   ],
   "source": [
    "if x > y:          # conditional\n",
    "    print(\"yes\")   # then-branch or true-branch\n",
    "else:\n",
    "    print(\"no\")    # else-branch or false-branch"
   ]
  },
  {
   "cell_type": "code",
   "execution_count": 7,
   "id": "84e2c77f",
   "metadata": {},
   "outputs": [
    {
     "name": "stdout",
     "output_type": "stream",
     "text": [
      "yes\n"
     ]
    }
   ],
   "source": [
    "if x < y:          # conditional\n",
    "    print(\"yes\")   # then-branch or true-branch\n"
   ]
  },
  {
   "cell_type": "code",
   "execution_count": 8,
   "id": "17665ed3",
   "metadata": {},
   "outputs": [],
   "source": [
    "if x > y:          # conditional\n",
    "    print(\"yes\")   # then-branch or true-branch\n"
   ]
  },
  {
   "cell_type": "code",
   "execution_count": 14,
   "id": "6c3fda8c",
   "metadata": {},
   "outputs": [
    {
     "name": "stdout",
     "output_type": "stream",
     "text": [
      "B\n"
     ]
    }
   ],
   "source": [
    "g = 85\n",
    "if g >= 90:\n",
    "    print(\"A\")\n",
    "elif g >= 80:   # short for \"else if ....\"\n",
    "    print(\"B\")\n",
    "elif g >= 70:\n",
    "    print(\"C\")\n",
    "else:\n",
    "    print(\"You're taking this class again next semester!\")"
   ]
  },
  {
   "cell_type": "code",
   "execution_count": 17,
   "id": "c902dcd3",
   "metadata": {},
   "outputs": [
    {
     "name": "stdout",
     "output_type": "stream",
     "text": [
      "Quadrant I\n"
     ]
    }
   ],
   "source": [
    "x = 10\n",
    "y = 20\n",
    "if x > 0 and y > 0:\n",
    "    print(\"Quadrant I\")\n",
    "elif x > 0 and y < 0:\n",
    "    print(\"Quadrant II\")\n",
    "else:\n",
    "    print(\"Elsewhere...\")"
   ]
  },
  {
   "cell_type": "code",
   "execution_count": 18,
   "id": "8d9bba82",
   "metadata": {},
   "outputs": [
    {
     "name": "stdout",
     "output_type": "stream",
     "text": [
      "Q I\n"
     ]
    }
   ],
   "source": [
    "if x > 0:\n",
    "    if y > 0:\n",
    "        print(\"Q I\")\n",
    "    else:\n",
    "        print(\"Q II\")\n",
    "else:\n",
    "    if y > 0:\n",
    "        print(\"Q III\")\n",
    "    else:\n",
    "        print(\"Q IV\")"
   ]
  },
  {
   "cell_type": "code",
   "execution_count": 32,
   "id": "1ee6e2f4",
   "metadata": {},
   "outputs": [
    {
     "name": "stdout",
     "output_type": "stream",
     "text": [
      "n is 10 and a is 1\n",
      "n is 9 and a is 10\n",
      "n is 8 and a is 90\n",
      "n is 7 and a is 720\n",
      "n is 6 and a is 5040\n",
      "n is 5 and a is 30240\n",
      "n is 4 and a is 151200\n",
      "n is 3 and a is 604800\n",
      "n is 2 and a is 1814400\n",
      "n is 1 and a is 3628800\n",
      "a is 3628800\n"
     ]
    }
   ],
   "source": [
    "n = 10\n",
    "a = 1\n",
    "while n > 0:\n",
    "    print(f\"n is {n} and a is {a}\")\n",
    "    a = a * n\n",
    "    n = n - 1\n",
    "\n",
    "print(f\"a is {a}\")"
   ]
  },
  {
   "cell_type": "code",
   "execution_count": 29,
   "id": "71099106",
   "metadata": {},
   "outputs": [],
   "source": [
    "myList = [5,3,2,1,7,5,1,0,4,7]"
   ]
  },
  {
   "cell_type": "code",
   "execution_count": 25,
   "id": "62360af2",
   "metadata": {},
   "outputs": [
    {
     "name": "stdout",
     "output_type": "stream",
     "text": [
      "x is 5\n",
      "x is 3\n",
      "x is 2\n",
      "x is 0\n",
      "x is 7\n",
      "x is 5\n",
      "x is 1\n",
      "x is 4\n",
      "x is 7\n"
     ]
    }
   ],
   "source": [
    "for x in myList:\n",
    "    print(f\"x is {x}\")"
   ]
  },
  {
   "cell_type": "code",
   "execution_count": 31,
   "id": "ddb32432",
   "metadata": {},
   "outputs": [
    {
     "name": "stdout",
     "output_type": "stream",
     "text": [
      "x is 5\n",
      "prod is 5\n",
      "x is 3\n",
      "prod is 15\n",
      "x is 2\n",
      "prod is 30\n",
      "x is 1\n",
      "skipping...\n",
      "x is 7\n",
      "prod is 210\n",
      "x is 5\n",
      "prod is 1050\n",
      "x is 1\n",
      "skipping...\n",
      "x is 0\n",
      "stopping...\n"
     ]
    }
   ],
   "source": [
    "prod = 1\n",
    "for x in myList:\n",
    "    print(f\"x is {x}\")\n",
    "    prod = prod * x\n",
    "    if x == 0:\n",
    "        print(\"stopping...\")\n",
    "        break\n",
    "    if x == 1:\n",
    "        print(\"skipping...\")\n",
    "        continue\n",
    "    print(f\"prod is {prod}\")"
   ]
  },
  {
   "cell_type": "code",
   "execution_count": null,
   "id": "fff5666e",
   "metadata": {},
   "outputs": [],
   "source": []
  }
 ],
 "metadata": {
  "kernelspec": {
   "display_name": "Python 3",
   "language": "python",
   "name": "python3"
  },
  "language_info": {
   "codemirror_mode": {
    "name": "ipython",
    "version": 3
   },
   "file_extension": ".py",
   "mimetype": "text/x-python",
   "name": "python",
   "nbconvert_exporter": "python",
   "pygments_lexer": "ipython3",
   "version": "3.10.9"
  }
 },
 "nbformat": 4,
 "nbformat_minor": 5
}
