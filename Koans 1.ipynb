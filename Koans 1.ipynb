{
 "cells": [
  {
   "cell_type": "code",
   "execution_count": null,
   "id": "86eb56c0",
   "metadata": {},
   "outputs": [],
   "source": [
    "import doctest"
   ]
  },
  {
   "cell_type": "markdown",
   "id": "f6bbff61",
   "metadata": {},
   "source": [
    "# Koans!\n",
    "\n",
    "In each of the following functions, edit the function `theTest` according to the instructions to make the test cases pass.\n",
    "The function should only return at the very end with the line that says `return answer`."
   ]
  },
  {
   "cell_type": "markdown",
   "id": "ad1f2a30",
   "metadata": {},
   "source": [
    "## Conditionals"
   ]
  },
  {
   "cell_type": "code",
   "execution_count": null,
   "id": "86bb7fa9",
   "metadata": {},
   "outputs": [],
   "source": [
    "def theTest(x,y):\n",
    "    '''\n",
    "    if x > y, return \"yes\", otherwise return \"no\"\n",
    "    Use if and else to do this, and put the result in `answer`.\n",
    "    >>> theTest(10,20)\n",
    "    'no'\n",
    "    '''\n",
    "    answer = None\n",
    "    # Put your code here\n",
    "    \n",
    "    return answer\n",
    "doctest.testmod()"
   ]
  },
  {
   "cell_type": "code",
   "execution_count": null,
   "id": "bf235058",
   "metadata": {},
   "outputs": [],
   "source": [
    "def theTest(x,y):\n",
    "    '''\n",
    "    if x > y, return \"yes\", otherwise return \"no\"\n",
    "    Use if BUT NOT ELSE to do this, and put the result in `answer`.\n",
    "    >>> theTest(10,20)\n",
    "    'no'\n",
    "    '''\n",
    "    answer = None\n",
    "    # Put your code here\n",
    "    \n",
    "    return answer\n",
    "doctest.testmod()"
   ]
  },
  {
   "cell_type": "code",
   "execution_count": null,
   "id": "904cb047",
   "metadata": {},
   "outputs": [],
   "source": [
    "def theTest(x,y):\n",
    "    '''\n",
    "    if x > y, return \"alpha\"\n",
    "    if x < y, return \"beta\"\n",
    "    if x == y, return \"gamma\"\n",
    "    Use if elif and else to do this, and put the result in `answer`. \n",
    "    >>> theTest(10,20)\n",
    "    \"beta\"\n",
    "    >>> theTest(20,5)\n",
    "    \"alpha\"\n",
    "    >>> theTest(10,5)\n",
    "    \"gamma\"\n",
    "    '''\n",
    "    answer = None\n",
    "    return answer # Do not change this line\n",
    "doctest.testmod()"
   ]
  },
  {
   "cell_type": "code",
   "execution_count": null,
   "id": "6b8bb61a",
   "metadata": {},
   "outputs": [],
   "source": [
    "def theTest(x):\n",
    "    '''\n",
    "    Grader!\n",
    "    if x >= 90, return \"A\"\n",
    "    if x >= 80, return \"B\"\n",
    "    if x >= 70, return \"C\"\n",
    "    otherwise return \"F\"\n",
    "    Use if/elif/else for this\n",
    "    >>> theTest(77)\n",
    "    \"C\"\n",
    "    >>> theTest(73)\n",
    "    \"C\"\n",
    "    >>> theTest(87)\n",
    "    \"B\"\n",
    "    >>> theTest(84)\n",
    "    \"B\"\n",
    "    >>> theTest(99)\n",
    "    \"A\"\n",
    "    >>> theTest(90)\n",
    "    \"A\"\n",
    "    '''\n",
    "    answer = None\n",
    "    # Put your code here\n",
    "    \n",
    "    return answer # Do not change this line\n",
    "doctest.testmod()"
   ]
  },
  {
   "cell_type": "markdown",
   "id": "2503a302",
   "metadata": {},
   "source": [
    "## Ranges!"
   ]
  },
  {
   "cell_type": "code",
   "execution_count": null,
   "id": "677bd697",
   "metadata": {},
   "outputs": [],
   "source": [
    "def theTest(x):\n",
    "    '''\n",
    "    Return a list from 0 to x-1.  Use `range` and `list` to do it.\n",
    "    >>> theTest(5)\n",
    "    [0, 1, 2, 3, 4]\n",
    "    >>> theTest(0)\n",
    "    []\n",
    "    '''\n",
    "    answer = []\n",
    "    return answer\n",
    "doctest.testmod()"
   ]
  },
  {
   "cell_type": "code",
   "execution_count": null,
   "id": "a6e53e1e",
   "metadata": {},
   "outputs": [],
   "source": [
    "def theTest(x,y):\n",
    "    '''\n",
    "    Return a list from x to y-1.  Use `range` and `list` to do it.\n",
    "    >>> theTest(2,5)\n",
    "    [2, 3, 4]\n",
    "    >>> theTest(5,8)\n",
    "    [5, 6, 7]\n",
    "    '''\n",
    "    answer = []\n",
    "    return answer\n",
    "doctest.testmod()"
   ]
  },
  {
   "cell_type": "code",
   "execution_count": null,
   "id": "daf26b8b",
   "metadata": {},
   "outputs": [],
   "source": [
    "def theTest(x,y):\n",
    "    '''\n",
    "    Return a list from x to y-1, but skipping every other number.  Use `range` and `list` to do it.\n",
    "    >>> theTest(2,7)\n",
    "    [2, 4, 6]\n",
    "    >>> theTest(5,8)\n",
    "    [5, 7]\n",
    "    '''\n",
    "    answer = []\n",
    "    return answer\n",
    "doctest.testmod()"
   ]
  },
  {
   "cell_type": "markdown",
   "id": "67195b06",
   "metadata": {},
   "source": [
    "## Lists!"
   ]
  },
  {
   "cell_type": "code",
   "execution_count": null,
   "id": "e803cdc7",
   "metadata": {},
   "outputs": [],
   "source": [
    "def theTest(x):\n",
    "    '''\n",
    "    Return the length of the list.\n",
    "    >>> theTest([2,3,4,5])\n",
    "    4\n",
    "    >>> theTest([5,8])\n",
    "    2\n",
    "    '''\n",
    "    answer = []\n",
    "    return answer\n",
    "doctest.testmod()"
   ]
  },
  {
   "cell_type": "code",
   "execution_count": null,
   "id": "f0311851",
   "metadata": {},
   "outputs": [],
   "source": [
    "def theTest(x):\n",
    "    '''\n",
    "    Return the first element of the list.\n",
    "    >>> theTest([2,3,4,5])\n",
    "    2\n",
    "    >>> theTest([5,8])\n",
    "    5\n",
    "    '''\n",
    "    answer = []\n",
    "    return answer\n",
    "doctest.testmod()"
   ]
  },
  {
   "cell_type": "code",
   "execution_count": null,
   "id": "21889cb8",
   "metadata": {},
   "outputs": [],
   "source": [
    "def theTest(x):\n",
    "    '''\n",
    "    Return the last element of the list.\n",
    "    >>> theTest([2,3,4,5])\n",
    "    5\n",
    "    >>> theTest([5,8])\n",
    "    8\n",
    "    '''\n",
    "    answer = []\n",
    "    return answer\n",
    "doctest.testmod()"
   ]
  },
  {
   "cell_type": "code",
   "execution_count": null,
   "id": "97c57bf7",
   "metadata": {},
   "outputs": [],
   "source": [
    "def theTest(x):\n",
    "    '''\n",
    "    Return a copy of the list, but with the first element negated.  Return the original list also.\n",
    "    >>> theTest([2,3,4,5])\n",
    "    ([-2, 3, 4, 5], [2, 3, 4, 5])\n",
    "    >>> theTest([5,8])\n",
    "    ([-5, 8], [5, 8])\n",
    "    '''\n",
    "    nulist = x\n",
    "    nulist[0] = - nulist[0]\n",
    "    answer = (nulist,x)\n",
    "    return answer\n",
    "doctest.testmod()"
   ]
  },
  {
   "cell_type": "code",
   "execution_count": null,
   "id": "246cc2ff",
   "metadata": {},
   "outputs": [],
   "source": [
    "def theTest(x):\n",
    "    '''\n",
    "    Return a copy of the list, but sorted.  Return the original list also.\n",
    "    >>> theTest([5,3,2,4])\n",
    "    ([2, 3, 4, 5], [5, 3, 2, 4])\n",
    "    >>> theTest([8,5])\n",
    "    ([5, 8], [8, 5])\n",
    "    '''\n",
    "    nulist = x\n",
    "    answer = (nulist,x)\n",
    "    return answer\n",
    "doctest.testmod()"
   ]
  },
  {
   "cell_type": "markdown",
   "id": "422fefbc",
   "metadata": {},
   "source": [
    "## Looping!"
   ]
  },
  {
   "cell_type": "code",
   "execution_count": null,
   "id": "3bd24109",
   "metadata": {},
   "outputs": [],
   "source": [
    "def theTest(x):\n",
    "    '''\n",
    "    Return the sum of the elements of the list.  Use a for loop.\n",
    "    >>> theTest([2,3,4,5])\n",
    "    14\n",
    "    >>> theTest([5,8])\n",
    "    13\n",
    "    '''\n",
    "    answer = None\n",
    "    # your code here\n",
    "    return answer\n",
    "doctest.testmod()"
   ]
  },
  {
   "cell_type": "code",
   "execution_count": null,
   "id": "38fa2ab0",
   "metadata": {},
   "outputs": [],
   "source": [
    "def theTest(x):\n",
    "    '''\n",
    "    Return the product of the elements of the list.  Use a for loop.\n",
    "    >>> theTest([2,3,4,5])\n",
    "    120\n",
    "    >>> theTest([5,8])\n",
    "    40\n",
    "    '''\n",
    "    answer = None\n",
    "    # your code here\n",
    "    return answer\n",
    "doctest.testmod()"
   ]
  },
  {
   "cell_type": "code",
   "execution_count": null,
   "id": "2e9d5c2e",
   "metadata": {},
   "outputs": [],
   "source": [
    "def theTest(x):\n",
    "    '''\n",
    "    Return the product of the non-zero elements of the list.  Use a for loop and continue.\n",
    "    >>> theTest([2,3,0,4,0,5])\n",
    "    120\n",
    "    >>> theTest([5,0,8])\n",
    "    40\n",
    "    '''\n",
    "    answer = None\n",
    "    # your code here\n",
    "    return answer\n",
    "doctest.testmod()"
   ]
  },
  {
   "cell_type": "code",
   "execution_count": null,
   "id": "6e5d7295",
   "metadata": {},
   "outputs": [],
   "source": [
    "def theTest(x):\n",
    "    '''\n",
    "    Return the product of the elements of the list up to the first zero.  Use a for loop and break.\n",
    "    >>> theTest([2,3,0,4,0,5])\n",
    "    6\n",
    "    >>> theTest([5,0,8])\n",
    "    5\n",
    "    '''\n",
    "    answer = None\n",
    "    # your code here\n",
    "    return answer\n",
    "doctest.testmod()"
   ]
  },
  {
   "cell_type": "markdown",
   "id": "865e0fb4",
   "metadata": {},
   "source": [
    "## Types!"
   ]
  },
  {
   "cell_type": "code",
   "execution_count": null,
   "id": "4489ca28",
   "metadata": {},
   "outputs": [],
   "source": [
    "def theTest(x):\n",
    "    '''\n",
    "    Convert the input into a string.\n",
    "    >>> theTest([2,3,0,4,0,5])\n",
    "    '[2, 3, 0, 4, 0, 5]'\n",
    "    >>> theTest(123)\n",
    "    123\n",
    "    '''\n",
    "    answer = None\n",
    "    # your code here\n",
    "    return answer\n",
    "doctest.testmod()"
   ]
  },
  {
   "cell_type": "code",
   "execution_count": null,
   "id": "eb273fb8",
   "metadata": {},
   "outputs": [],
   "source": [
    "str(123)"
   ]
  },
  {
   "cell_type": "code",
   "execution_count": null,
   "id": "c205871f",
   "metadata": {},
   "outputs": [],
   "source": [
    "def theTest(x):\n",
    "    '''\n",
    "    Convert the input into an integer.\n",
    "    >>> theTest('45')\n",
    "    45\n",
    "    >>> theTest(\"123\")\n",
    "    123\n",
    "    '''\n",
    "    answer = None\n",
    "    # your code here\n",
    "    return answer\n",
    "doctest.testmod()"
   ]
  },
  {
   "cell_type": "code",
   "execution_count": null,
   "id": "62d38fe8",
   "metadata": {},
   "outputs": [],
   "source": []
  },
  {
   "cell_type": "code",
   "execution_count": null,
   "id": "24c074b8",
   "metadata": {},
   "outputs": [],
   "source": []
  }
 ],
 "metadata": {
  "kernelspec": {
   "display_name": "Python 3",
   "language": "python",
   "name": "python3"
  },
  "language_info": {
   "codemirror_mode": {
    "name": "ipython",
    "version": 3
   },
   "file_extension": ".py",
   "mimetype": "text/x-python",
   "name": "python",
   "nbconvert_exporter": "python",
   "pygments_lexer": "ipython3",
   "version": "3.10.9"
  }
 },
 "nbformat": 4,
 "nbformat_minor": 5
}
